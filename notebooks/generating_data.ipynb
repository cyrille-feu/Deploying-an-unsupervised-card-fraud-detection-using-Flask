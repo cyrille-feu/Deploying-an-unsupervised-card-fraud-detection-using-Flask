{
 "cells": [
  {
   "cell_type": "markdown",
   "metadata": {},
   "source": [
    "### Generate a fake dataset with 5 columns"
   ]
  },
  {
   "cell_type": "code",
   "execution_count": 1,
   "metadata": {},
   "outputs": [],
   "source": [
    "# Import necessary libraries\n",
    "import pandas as pd\n",
    "import numpy as np"
   ]
  },
  {
   "cell_type": "code",
   "execution_count": 6,
   "metadata": {},
   "outputs": [],
   "source": [
    "np.random.seed(42)\n",
    "\n",
    "data = {\n",
    "    'Amount': np.random.uniform(1, 10000, 100000),\n",
    "    'Merchant': np.random.choice(['A', 'B', 'C'], 100000),\n",
    "    'Location': np.random.choice(['Local', 'International'], 100000),\n",
    "    'TimeOfDay': np.random.choice(['Morning', 'Afternoon', 'Evening'], 100000),\n",
    "    'TransactionType': np.random.choice(['Purchase', 'Withdrawal'], 100000),\n",
    "}\n",
    "\n",
    "df = pd.DataFrame(data)"
   ]
  },
  {
   "cell_type": "code",
   "execution_count": 8,
   "metadata": {},
   "outputs": [],
   "source": [
    "# Introduce some missing values\n",
    "df.loc[(df['Amount'] > 900) & (df['Amount'] < 10), 'Amount'] = np.nan"
   ]
  },
  {
   "cell_type": "code",
   "execution_count": 4,
   "metadata": {},
   "outputs": [],
   "source": [
    "# Save the dataset\n",
    "df.to_csv('../data/fake_dataset.csv', index=False)"
   ]
  },
  {
   "cell_type": "code",
   "execution_count": null,
   "metadata": {},
   "outputs": [],
   "source": []
  }
 ],
 "metadata": {
  "kernelspec": {
   "display_name": "credit_env",
   "language": "python",
   "name": "python3"
  },
  "language_info": {
   "codemirror_mode": {
    "name": "ipython",
    "version": 3
   },
   "file_extension": ".py",
   "mimetype": "text/x-python",
   "name": "python",
   "nbconvert_exporter": "python",
   "pygments_lexer": "ipython3",
   "version": "3.10.4"
  }
 },
 "nbformat": 4,
 "nbformat_minor": 2
}
